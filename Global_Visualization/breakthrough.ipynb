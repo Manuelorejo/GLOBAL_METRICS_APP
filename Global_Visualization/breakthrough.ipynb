{
 "cells": [
  {
   "cell_type": "code",
   "execution_count": 1,
   "id": "42f638d0",
   "metadata": {},
   "outputs": [],
   "source": [
    "import pandas as pd\n",
    "import numpy as np\n",
    "import seaborn as sns\n",
    "import matplotlib.pyplot as plt\n",
    "import plotly.express as px\n",
    "%matplotlib inline"
   ]
  },
  {
   "cell_type": "code",
   "execution_count": 2,
   "id": "f11d1335",
   "metadata": {},
   "outputs": [],
   "source": [
    "df = pd.read_csv('First_edit.csv')"
   ]
  },
  {
   "cell_type": "code",
   "execution_count": 3,
   "id": "de476e6f",
   "metadata": {},
   "outputs": [
    {
     "data": {
      "text/html": [
       "<div>\n",
       "<style scoped>\n",
       "    .dataframe tbody tr th:only-of-type {\n",
       "        vertical-align: middle;\n",
       "    }\n",
       "\n",
       "    .dataframe tbody tr th {\n",
       "        vertical-align: top;\n",
       "    }\n",
       "\n",
       "    .dataframe thead th {\n",
       "        text-align: right;\n",
       "    }\n",
       "</style>\n",
       "<table border=\"1\" class=\"dataframe\">\n",
       "  <thead>\n",
       "    <tr style=\"text-align: right;\">\n",
       "      <th></th>\n",
       "      <th>Unnamed: 0</th>\n",
       "      <th>Country</th>\n",
       "      <th>Surface area (km2)</th>\n",
       "      <th>Population in thousands (2017)</th>\n",
       "      <th>Sex ratio (m per 100 f, 2017)</th>\n",
       "      <th>GDP per capita (current US$)</th>\n",
       "      <th>Unemployment (% of labour force)</th>\n",
       "    </tr>\n",
       "  </thead>\n",
       "  <tbody>\n",
       "    <tr>\n",
       "      <th>0</th>\n",
       "      <td>0</td>\n",
       "      <td>Afghanistan</td>\n",
       "      <td>652864</td>\n",
       "      <td>35530</td>\n",
       "      <td>106</td>\n",
       "      <td>623.0</td>\n",
       "      <td>8.6</td>\n",
       "    </tr>\n",
       "    <tr>\n",
       "      <th>1</th>\n",
       "      <td>1</td>\n",
       "      <td>Albania</td>\n",
       "      <td>28748</td>\n",
       "      <td>2930</td>\n",
       "      <td>101</td>\n",
       "      <td>3984.0</td>\n",
       "      <td>15.8</td>\n",
       "    </tr>\n",
       "    <tr>\n",
       "      <th>2</th>\n",
       "      <td>2</td>\n",
       "      <td>Algeria</td>\n",
       "      <td>2381741</td>\n",
       "      <td>41318</td>\n",
       "      <td>102</td>\n",
       "      <td>4154.0</td>\n",
       "      <td>11.4</td>\n",
       "    </tr>\n",
       "    <tr>\n",
       "      <th>3</th>\n",
       "      <td>5</td>\n",
       "      <td>Angola</td>\n",
       "      <td>1246700</td>\n",
       "      <td>29784</td>\n",
       "      <td>96</td>\n",
       "      <td>4714.0</td>\n",
       "      <td>6.6</td>\n",
       "    </tr>\n",
       "    <tr>\n",
       "      <th>4</th>\n",
       "      <td>8</td>\n",
       "      <td>Argentina</td>\n",
       "      <td>2780400</td>\n",
       "      <td>44271</td>\n",
       "      <td>95</td>\n",
       "      <td>14564.0</td>\n",
       "      <td>6.5</td>\n",
       "    </tr>\n",
       "  </tbody>\n",
       "</table>\n",
       "</div>"
      ],
      "text/plain": [
       "   Unnamed: 0      Country  Surface area (km2)  \\\n",
       "0           0  Afghanistan              652864   \n",
       "1           1      Albania               28748   \n",
       "2           2      Algeria             2381741   \n",
       "3           5       Angola             1246700   \n",
       "4           8    Argentina             2780400   \n",
       "\n",
       "   Population in thousands (2017)  Sex ratio (m per 100 f, 2017)  \\\n",
       "0                           35530                            106   \n",
       "1                            2930                            101   \n",
       "2                           41318                            102   \n",
       "3                           29784                             96   \n",
       "4                           44271                             95   \n",
       "\n",
       "   GDP per capita (current US$)  Unemployment (% of labour force)  \n",
       "0                         623.0                               8.6  \n",
       "1                        3984.0                              15.8  \n",
       "2                        4154.0                              11.4  \n",
       "3                        4714.0                               6.6  \n",
       "4                       14564.0                               6.5  "
      ]
     },
     "execution_count": 3,
     "metadata": {},
     "output_type": "execute_result"
    }
   ],
   "source": [
    "df.head()"
   ]
  },
  {
   "cell_type": "code",
   "execution_count": 4,
   "id": "a854b32b",
   "metadata": {},
   "outputs": [],
   "source": [
    "fig  = px.choropleth(df, locations = 'Country',locationmode= 'country names', color = 'Population in thousands (2017)')"
   ]
  },
  {
   "cell_type": "code",
   "execution_count": 5,
   "id": "18ae2037",
   "metadata": {},
   "outputs": [],
   "source": [
    "import chart_studio.plotly as py\n",
    "import plotly.graph_objects as go\n",
    "from plotly.offline import download_plotlyjs,init_notebook_mode,plot,iplot"
   ]
  },
  {
   "cell_type": "markdown",
   "id": "3d3dbf77",
   "metadata": {},
   "source": []
  },
  {
   "cell_type": "markdown",
   "id": "3142c56e",
   "metadata": {},
   "source": [
    "VISUALIZING POPULATION DATA"
   ]
  },
  {
   "cell_type": "code",
   "execution_count": 6,
   "id": "b12a2f52",
   "metadata": {},
   "outputs": [],
   "source": [
    "population_data = dict(type = 'choropleth',\n",
    "           colorscale = 'ylorrd',\n",
    "           locations = df['Country'],\n",
    "           locationmode = 'country names',\n",
    "           z = df['Population in thousands (2017)'],\n",
    "           colorbar = {'title': 'Population in thousands (2017)'})"
   ]
  },
  {
   "cell_type": "code",
   "execution_count": 7,
   "id": "975f03c6",
   "metadata": {},
   "outputs": [],
   "source": [
    "population_layout = go.Layout(dict(title = 'Population(in thousands) of countries of the world 2017',geo = dict(scope = 'world')))"
   ]
  },
  {
   "cell_type": "code",
   "execution_count": 8,
   "id": "cedd516f",
   "metadata": {},
   "outputs": [],
   "source": [
    "population_fig = go.Figure(population_data,population_layout)"
   ]
  },
  {
   "cell_type": "code",
   "execution_count": 9,
   "id": "e41cf981",
   "metadata": {},
   "outputs": [
    {
     "data": {
      "text/plain": [
       "'temp-plot.html'"
      ]
     },
     "execution_count": 9,
     "metadata": {},
     "output_type": "execute_result"
    }
   ],
   "source": [
    "plot(population_fig)"
   ]
  },
  {
   "cell_type": "markdown",
   "id": "cf3af9e5",
   "metadata": {},
   "source": []
  },
  {
   "cell_type": "markdown",
   "id": "aa6a6f01",
   "metadata": {},
   "source": [
    "VISUALIZING SURFACE AREA "
   ]
  },
  {
   "cell_type": "code",
   "execution_count": 10,
   "id": "7306edeb",
   "metadata": {},
   "outputs": [],
   "source": [
    "area_data = dict(type = 'choropleth',\n",
    "           colorscale = 'ylorrd',\n",
    "           locations = df['Country'],\n",
    "           locationmode = 'country names',\n",
    "           z = df['Surface area (km2)'],\n",
    "           colorbar = {'title': 'Surface area (km2)'})"
   ]
  },
  {
   "cell_type": "code",
   "execution_count": 11,
   "id": "e5f98f84",
   "metadata": {},
   "outputs": [],
   "source": [
    "area_layout = go.Layout(dict(title = 'Surface area(in km2) of countries of the world 2017',geo = dict(scope = 'world')))"
   ]
  },
  {
   "cell_type": "code",
   "execution_count": 12,
   "id": "72ffa47a",
   "metadata": {},
   "outputs": [],
   "source": [
    "area_fig = go.Figure(area_data,area_layout)"
   ]
  },
  {
   "cell_type": "code",
   "execution_count": 13,
   "id": "b225fec7",
   "metadata": {},
   "outputs": [
    {
     "data": {
      "text/plain": [
       "'temp-plot.html'"
      ]
     },
     "execution_count": 13,
     "metadata": {},
     "output_type": "execute_result"
    }
   ],
   "source": [
    "plot(area_fig)"
   ]
  },
  {
   "cell_type": "markdown",
   "id": "e7487e9e",
   "metadata": {},
   "source": []
  },
  {
   "cell_type": "markdown",
   "id": "c5f704d8",
   "metadata": {},
   "source": [
    "VISUALIZING GDP DATA"
   ]
  },
  {
   "cell_type": "code",
   "execution_count": 14,
   "id": "785b788c",
   "metadata": {},
   "outputs": [],
   "source": [
    "gdp_data = dict(type = 'choropleth',\n",
    "           colorscale = 'ylorrd',zmin = 0, zmax = 70000,\n",
    "           locations = df['Country'],\n",
    "           locationmode = 'country names',\n",
    "           z = df['GDP per capita (current US$)'],\n",
    "           colorbar = {'title': 'GDP per capita (current US$)'})"
   ]
  },
  {
   "cell_type": "code",
   "execution_count": 15,
   "id": "9038bc35",
   "metadata": {},
   "outputs": [],
   "source": [
    "gdp_layout = go.Layout(dict(title = 'GDP per capita (current US$) of countries of the world 2017',geo = dict(scope = 'world')))"
   ]
  },
  {
   "cell_type": "code",
   "execution_count": 16,
   "id": "0020f914",
   "metadata": {},
   "outputs": [],
   "source": [
    "gdp_fig = go.Figure(gdp_data,gdp_layout)"
   ]
  },
  {
   "cell_type": "code",
   "execution_count": 17,
   "id": "b8d21ff2",
   "metadata": {},
   "outputs": [
    {
     "data": {
      "text/plain": [
       "'temp-plot.html'"
      ]
     },
     "execution_count": 17,
     "metadata": {},
     "output_type": "execute_result"
    }
   ],
   "source": [
    "plot(gdp_fig)"
   ]
  },
  {
   "cell_type": "markdown",
   "id": "9c9ad8a9",
   "metadata": {},
   "source": []
  },
  {
   "cell_type": "markdown",
   "id": "1f79841c",
   "metadata": {},
   "source": [
    "VISUALIZING UNEMPLOYMENT DATA"
   ]
  },
  {
   "cell_type": "code",
   "execution_count": 18,
   "id": "8291914c",
   "metadata": {},
   "outputs": [],
   "source": [
    "unemployment_data = dict(type = 'choropleth',\n",
    "           colorscale = 'ylorrd',\n",
    "           locations = df['Country'],\n",
    "           locationmode = 'country names',\n",
    "           z = df['Unemployment (% of labour force)'],\n",
    "           colorbar = {'title': 'Unemployment (% of labour force)'})"
   ]
  },
  {
   "cell_type": "code",
   "execution_count": 19,
   "id": "8f03ce14",
   "metadata": {},
   "outputs": [],
   "source": [
    "unemployment_layout = go.Layout(dict(title = 'Unemployment (% of labour force)',geo = dict(scope = 'world')))"
   ]
  },
  {
   "cell_type": "code",
   "execution_count": 20,
   "id": "60a20675",
   "metadata": {},
   "outputs": [],
   "source": [
    "unemployment_fig = go.Figure(unemployment_data,unemployment_layout)"
   ]
  },
  {
   "cell_type": "code",
   "execution_count": 21,
   "id": "54f58d50",
   "metadata": {},
   "outputs": [
    {
     "data": {
      "text/plain": [
       "'temp-plot.html'"
      ]
     },
     "execution_count": 21,
     "metadata": {},
     "output_type": "execute_result"
    }
   ],
   "source": [
    "plot(unemployment_fig)"
   ]
  },
  {
   "cell_type": "markdown",
   "id": "9239465f",
   "metadata": {},
   "source": []
  }
 ],
 "metadata": {
  "kernelspec": {
   "display_name": "Python 3 (ipykernel)",
   "language": "python",
   "name": "python3"
  },
  "language_info": {
   "codemirror_mode": {
    "name": "ipython",
    "version": 3
   },
   "file_extension": ".py",
   "mimetype": "text/x-python",
   "name": "python",
   "nbconvert_exporter": "python",
   "pygments_lexer": "ipython3",
   "version": "3.9.13"
  }
 },
 "nbformat": 4,
 "nbformat_minor": 5
}
